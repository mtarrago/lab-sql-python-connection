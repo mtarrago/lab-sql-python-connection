{
 "cells": [
  {
   "cell_type": "code",
   "execution_count": 37,
   "metadata": {},
   "outputs": [
    {
     "name": "stdout",
     "output_type": "stream",
     "text": [
      "Keyring is skipped due to an exception: 'keyring.backends'\n",
      "Requirement already satisfied: sqlalchemy in /opt/anaconda3/lib/python3.7/site-packages (1.4.52)\n",
      "Requirement already satisfied: greenlet!=0.4.17; python_version >= \"3\" and (platform_machine == \"aarch64\" or (platform_machine == \"ppc64le\" or (platform_machine == \"x86_64\" or (platform_machine == \"amd64\" or (platform_machine == \"AMD64\" or (platform_machine == \"win32\" or platform_machine == \"WIN32\")))))) in /opt/anaconda3/lib/python3.7/site-packages (from sqlalchemy) (0.4.15)\n",
      "Requirement already satisfied: importlib-metadata; python_version < \"3.8\" in /opt/anaconda3/lib/python3.7/site-packages (from sqlalchemy) (6.7.0)\n",
      "Requirement already satisfied: typing-extensions>=3.6.4; python_version < \"3.8\" in /opt/anaconda3/lib/python3.7/site-packages (from importlib-metadata; python_version < \"3.8\"->sqlalchemy) (4.7.1)\n",
      "Requirement already satisfied: zipp>=0.5 in /opt/anaconda3/lib/python3.7/site-packages (from importlib-metadata; python_version < \"3.8\"->sqlalchemy) (2.2.0)\n"
     ]
    }
   ],
   "source": [
    "# ! pip install sqlalchemy \n",
    "# ! pip install pymysql"
   ]
  },
  {
   "cell_type": "code",
   "execution_count": 2,
   "metadata": {},
   "outputs": [],
   "source": [
    "import pandas as pd\n",
    "from sqlalchemy import create_engine \n",
    "import pymysql.cursors\n",
    "import os\n",
    "import getpass\n",
    "import urllib.parse"
   ]
  },
  {
   "cell_type": "code",
   "execution_count": 3,
   "metadata": {},
   "outputs": [
    {
     "data": {
      "text/plain": [
       "'%21'"
      ]
     },
     "execution_count": 3,
     "metadata": {},
     "output_type": "execute_result"
    }
   ],
   "source": [
    "urllib.parse.quote_plus('!')"
   ]
  },
  {
   "cell_type": "code",
   "execution_count": 4,
   "metadata": {},
   "outputs": [
    {
     "data": {
      "text/plain": [
       "'%C3%A9'"
      ]
     },
     "execution_count": 4,
     "metadata": {},
     "output_type": "execute_result"
    }
   ],
   "source": [
    "urllib.parse.quote_plus('é')"
   ]
  },
  {
   "cell_type": "code",
   "execution_count": 5,
   "metadata": {},
   "outputs": [],
   "source": [
    "pw_raw = \"Eatyourdinner0991\" # os.getenv('key_sql')\n",
    "pw = urllib.parse.quote_plus(pw_raw)"
   ]
  },
  {
   "cell_type": "code",
   "execution_count": 6,
   "metadata": {},
   "outputs": [],
   "source": [
    "#engine = sqlalchemy.create_engine(f\"mysql://{username}:{password}@{host}:{port}\")\n",
    "\n",
    "connection_string = 'mysql+pymysql://root:' + pw + '@localhost:3306/'\n",
    "engine = create_engine(connection_string)"
   ]
  },
  {
   "cell_type": "code",
   "execution_count": 7,
   "metadata": {},
   "outputs": [
    {
     "name": "stderr",
     "output_type": "stream",
     "text": [
      "/opt/anaconda3/lib/python3.7/site-packages/ipykernel_launcher.py:2: RemovedIn20Warning: Deprecated API features detected! These feature(s) are not compatible with SQLAlchemy 2.0. To prevent incompatible upgrades prior to updating applications, ensure requirements files are pinned to \"sqlalchemy<2.0\". Set environment variable SQLALCHEMY_WARN_20=1 to show all deprecation warnings.  Set environment variable SQLALCHEMY_SILENCE_UBER_WARNING=1 to silence this message. (Background on SQLAlchemy 2.0 at: https://sqlalche.me/e/b8d9)\n",
      "  \n"
     ]
    }
   ],
   "source": [
    "with engine.connect() as conn:\n",
    "    conn.execute(f\"CREATE DATABASE IF NOT EXISTS a_new_db_262\")"
   ]
  },
  {
   "cell_type": "code",
   "execution_count": 8,
   "metadata": {},
   "outputs": [],
   "source": [
    "df = pd.DataFrame({'Column1':[12,23,45]})"
   ]
  },
  {
   "cell_type": "code",
   "execution_count": 9,
   "metadata": {},
   "outputs": [
    {
     "data": {
      "text/html": [
       "<div>\n",
       "<style scoped>\n",
       "    .dataframe tbody tr th:only-of-type {\n",
       "        vertical-align: middle;\n",
       "    }\n",
       "\n",
       "    .dataframe tbody tr th {\n",
       "        vertical-align: top;\n",
       "    }\n",
       "\n",
       "    .dataframe thead th {\n",
       "        text-align: right;\n",
       "    }\n",
       "</style>\n",
       "<table border=\"1\" class=\"dataframe\">\n",
       "  <thead>\n",
       "    <tr style=\"text-align: right;\">\n",
       "      <th></th>\n",
       "      <th>Column1</th>\n",
       "    </tr>\n",
       "  </thead>\n",
       "  <tbody>\n",
       "    <tr>\n",
       "      <th>0</th>\n",
       "      <td>12</td>\n",
       "    </tr>\n",
       "    <tr>\n",
       "      <th>1</th>\n",
       "      <td>23</td>\n",
       "    </tr>\n",
       "    <tr>\n",
       "      <th>2</th>\n",
       "      <td>45</td>\n",
       "    </tr>\n",
       "  </tbody>\n",
       "</table>\n",
       "</div>"
      ],
      "text/plain": [
       "   Column1\n",
       "0       12\n",
       "1       23\n",
       "2       45"
      ]
     },
     "execution_count": 9,
     "metadata": {},
     "output_type": "execute_result"
    }
   ],
   "source": [
    "df"
   ]
  },
  {
   "cell_type": "code",
   "execution_count": 10,
   "metadata": {},
   "outputs": [],
   "source": [
    "df.to_sql('our_new_table',engine, 'a_new_db_262', if_exists='replace', index=False)"
   ]
  },
  {
   "cell_type": "code",
   "execution_count": 11,
   "metadata": {},
   "outputs": [],
   "source": [
    "sql = \"\"\"\n",
    "select *\n",
    "from classicmodels.payments\n",
    "\"\"\""
   ]
  },
  {
   "cell_type": "code",
   "execution_count": 12,
   "metadata": {},
   "outputs": [
    {
     "data": {
      "text/html": [
       "<div>\n",
       "<style scoped>\n",
       "    .dataframe tbody tr th:only-of-type {\n",
       "        vertical-align: middle;\n",
       "    }\n",
       "\n",
       "    .dataframe tbody tr th {\n",
       "        vertical-align: top;\n",
       "    }\n",
       "\n",
       "    .dataframe thead th {\n",
       "        text-align: right;\n",
       "    }\n",
       "</style>\n",
       "<table border=\"1\" class=\"dataframe\">\n",
       "  <thead>\n",
       "    <tr style=\"text-align: right;\">\n",
       "      <th></th>\n",
       "      <th>customerNumber</th>\n",
       "      <th>checkNumber</th>\n",
       "      <th>paymentDate</th>\n",
       "      <th>amount</th>\n",
       "    </tr>\n",
       "  </thead>\n",
       "  <tbody>\n",
       "    <tr>\n",
       "      <th>0</th>\n",
       "      <td>103</td>\n",
       "      <td>HQ336336</td>\n",
       "      <td>2004-10-19</td>\n",
       "      <td>6066.78</td>\n",
       "    </tr>\n",
       "    <tr>\n",
       "      <th>1</th>\n",
       "      <td>103</td>\n",
       "      <td>JM555205</td>\n",
       "      <td>2003-06-05</td>\n",
       "      <td>14571.44</td>\n",
       "    </tr>\n",
       "    <tr>\n",
       "      <th>2</th>\n",
       "      <td>103</td>\n",
       "      <td>OM314933</td>\n",
       "      <td>2004-12-18</td>\n",
       "      <td>1676.14</td>\n",
       "    </tr>\n",
       "    <tr>\n",
       "      <th>3</th>\n",
       "      <td>112</td>\n",
       "      <td>BO864823</td>\n",
       "      <td>2004-12-17</td>\n",
       "      <td>14191.12</td>\n",
       "    </tr>\n",
       "    <tr>\n",
       "      <th>4</th>\n",
       "      <td>112</td>\n",
       "      <td>HQ55022</td>\n",
       "      <td>2003-06-06</td>\n",
       "      <td>32641.98</td>\n",
       "    </tr>\n",
       "    <tr>\n",
       "      <th>...</th>\n",
       "      <td>...</td>\n",
       "      <td>...</td>\n",
       "      <td>...</td>\n",
       "      <td>...</td>\n",
       "    </tr>\n",
       "    <tr>\n",
       "      <th>268</th>\n",
       "      <td>495</td>\n",
       "      <td>BH167026</td>\n",
       "      <td>2003-12-26</td>\n",
       "      <td>59265.14</td>\n",
       "    </tr>\n",
       "    <tr>\n",
       "      <th>269</th>\n",
       "      <td>495</td>\n",
       "      <td>FN155234</td>\n",
       "      <td>2004-05-14</td>\n",
       "      <td>6276.60</td>\n",
       "    </tr>\n",
       "    <tr>\n",
       "      <th>270</th>\n",
       "      <td>496</td>\n",
       "      <td>EU531600</td>\n",
       "      <td>2005-05-25</td>\n",
       "      <td>30253.75</td>\n",
       "    </tr>\n",
       "    <tr>\n",
       "      <th>271</th>\n",
       "      <td>496</td>\n",
       "      <td>MB342426</td>\n",
       "      <td>2003-07-16</td>\n",
       "      <td>32077.44</td>\n",
       "    </tr>\n",
       "    <tr>\n",
       "      <th>272</th>\n",
       "      <td>496</td>\n",
       "      <td>MN89921</td>\n",
       "      <td>2004-12-31</td>\n",
       "      <td>52166.00</td>\n",
       "    </tr>\n",
       "  </tbody>\n",
       "</table>\n",
       "<p>273 rows × 4 columns</p>\n",
       "</div>"
      ],
      "text/plain": [
       "     customerNumber checkNumber paymentDate    amount\n",
       "0               103    HQ336336  2004-10-19   6066.78\n",
       "1               103    JM555205  2003-06-05  14571.44\n",
       "2               103    OM314933  2004-12-18   1676.14\n",
       "3               112    BO864823  2004-12-17  14191.12\n",
       "4               112     HQ55022  2003-06-06  32641.98\n",
       "..              ...         ...         ...       ...\n",
       "268             495    BH167026  2003-12-26  59265.14\n",
       "269             495    FN155234  2004-05-14   6276.60\n",
       "270             496    EU531600  2005-05-25  30253.75\n",
       "271             496    MB342426  2003-07-16  32077.44\n",
       "272             496     MN89921  2004-12-31  52166.00\n",
       "\n",
       "[273 rows x 4 columns]"
      ]
     },
     "execution_count": 12,
     "metadata": {},
     "output_type": "execute_result"
    }
   ],
   "source": [
    "new_df = pd.read_sql_query(sql, engine)\n",
    "new_df"
   ]
  },
  {
   "cell_type": "code",
   "execution_count": 13,
   "metadata": {},
   "outputs": [],
   "source": [
    "new_df2 = pd.read_sql_table('payments',engine,'classicmodels')"
   ]
  },
  {
   "cell_type": "code",
   "execution_count": 14,
   "metadata": {},
   "outputs": [
    {
     "data": {
      "text/html": [
       "<div>\n",
       "<style scoped>\n",
       "    .dataframe tbody tr th:only-of-type {\n",
       "        vertical-align: middle;\n",
       "    }\n",
       "\n",
       "    .dataframe tbody tr th {\n",
       "        vertical-align: top;\n",
       "    }\n",
       "\n",
       "    .dataframe thead th {\n",
       "        text-align: right;\n",
       "    }\n",
       "</style>\n",
       "<table border=\"1\" class=\"dataframe\">\n",
       "  <thead>\n",
       "    <tr style=\"text-align: right;\">\n",
       "      <th></th>\n",
       "      <th>customerNumber</th>\n",
       "      <th>checkNumber</th>\n",
       "      <th>paymentDate</th>\n",
       "      <th>amount</th>\n",
       "    </tr>\n",
       "  </thead>\n",
       "  <tbody>\n",
       "    <tr>\n",
       "      <th>0</th>\n",
       "      <td>103</td>\n",
       "      <td>HQ336336</td>\n",
       "      <td>2004-10-19</td>\n",
       "      <td>6066.78</td>\n",
       "    </tr>\n",
       "    <tr>\n",
       "      <th>1</th>\n",
       "      <td>103</td>\n",
       "      <td>JM555205</td>\n",
       "      <td>2003-06-05</td>\n",
       "      <td>14571.44</td>\n",
       "    </tr>\n",
       "    <tr>\n",
       "      <th>2</th>\n",
       "      <td>103</td>\n",
       "      <td>OM314933</td>\n",
       "      <td>2004-12-18</td>\n",
       "      <td>1676.14</td>\n",
       "    </tr>\n",
       "    <tr>\n",
       "      <th>3</th>\n",
       "      <td>112</td>\n",
       "      <td>BO864823</td>\n",
       "      <td>2004-12-17</td>\n",
       "      <td>14191.12</td>\n",
       "    </tr>\n",
       "    <tr>\n",
       "      <th>4</th>\n",
       "      <td>112</td>\n",
       "      <td>HQ55022</td>\n",
       "      <td>2003-06-06</td>\n",
       "      <td>32641.98</td>\n",
       "    </tr>\n",
       "    <tr>\n",
       "      <th>...</th>\n",
       "      <td>...</td>\n",
       "      <td>...</td>\n",
       "      <td>...</td>\n",
       "      <td>...</td>\n",
       "    </tr>\n",
       "    <tr>\n",
       "      <th>268</th>\n",
       "      <td>495</td>\n",
       "      <td>BH167026</td>\n",
       "      <td>2003-12-26</td>\n",
       "      <td>59265.14</td>\n",
       "    </tr>\n",
       "    <tr>\n",
       "      <th>269</th>\n",
       "      <td>495</td>\n",
       "      <td>FN155234</td>\n",
       "      <td>2004-05-14</td>\n",
       "      <td>6276.60</td>\n",
       "    </tr>\n",
       "    <tr>\n",
       "      <th>270</th>\n",
       "      <td>496</td>\n",
       "      <td>EU531600</td>\n",
       "      <td>2005-05-25</td>\n",
       "      <td>30253.75</td>\n",
       "    </tr>\n",
       "    <tr>\n",
       "      <th>271</th>\n",
       "      <td>496</td>\n",
       "      <td>MB342426</td>\n",
       "      <td>2003-07-16</td>\n",
       "      <td>32077.44</td>\n",
       "    </tr>\n",
       "    <tr>\n",
       "      <th>272</th>\n",
       "      <td>496</td>\n",
       "      <td>MN89921</td>\n",
       "      <td>2004-12-31</td>\n",
       "      <td>52166.00</td>\n",
       "    </tr>\n",
       "  </tbody>\n",
       "</table>\n",
       "<p>273 rows × 4 columns</p>\n",
       "</div>"
      ],
      "text/plain": [
       "     customerNumber checkNumber paymentDate    amount\n",
       "0               103    HQ336336  2004-10-19   6066.78\n",
       "1               103    JM555205  2003-06-05  14571.44\n",
       "2               103    OM314933  2004-12-18   1676.14\n",
       "3               112    BO864823  2004-12-17  14191.12\n",
       "4               112     HQ55022  2003-06-06  32641.98\n",
       "..              ...         ...         ...       ...\n",
       "268             495    BH167026  2003-12-26  59265.14\n",
       "269             495    FN155234  2004-05-14   6276.60\n",
       "270             496    EU531600  2005-05-25  30253.75\n",
       "271             496    MB342426  2003-07-16  32077.44\n",
       "272             496     MN89921  2004-12-31  52166.00\n",
       "\n",
       "[273 rows x 4 columns]"
      ]
     },
     "execution_count": 14,
     "metadata": {},
     "output_type": "execute_result"
    }
   ],
   "source": [
    "new_df2"
   ]
  },
  {
   "cell_type": "code",
   "execution_count": 15,
   "metadata": {},
   "outputs": [],
   "source": [
    "\n",
    "#Write a Python function called rentals_month that retrieves rental data for a given month and year \n",
    "#(passed as parameters) from the Sakila database as a Pandas DataFrame. \n",
    "#The function should take in three parameters:\n",
    "\n",
    "#engine: an object representing the database connection engine to be used to establish a connection \n",
    "#to the Sakila database.\n",
    "#month: an integer representing the month for which rental data is to be retrieved.\n",
    "#year: an integer representing the year for which rental data is to be retrieved.\n",
    "#The function should execute a SQL query to retrieve the rental data for the specified month and year \n",
    "#from the rental table in the Sakila database, and return it as a pandas DataFrame.\n",
    "\n",
    "#Develop a Python function called rental_count_month that takes the DataFrame provided by \n",
    "#rentals_month as input along with the month and year and returns a new DataFrame containing \n",
    "#the number of rentals made by each customer_id during the selected month and year.\n",
    "\n",
    "#The function should also include the month and year as parameters and use them to name \n",
    "#the new column according to the month and year, for example, if the input month is 05 and the year is \n",
    "#2005, the column name should be \"rentals_05_2005\".\n",
    "\n",
    "#Hint: Consider making use of pandas groupby()\n",
    "\n",
    "#Create a Python function called compare_rentals that takes two DataFrames as input \n",
    "#containing the number of rentals made by each customer in different months and years. \n",
    "#The function should return a combined DataFrame with a new 'difference' column, which \n",
    "#is the difference between the number of rentals in the two months.\n",
    "\n",
    "    "
   ]
  },
  {
   "cell_type": "code",
   "execution_count": 22,
   "metadata": {},
   "outputs": [],
   "source": [
    "#engine = sqlalchemy.create_engine(f\"mysql://{username}:{password}@{host}:{port}\")\n",
    "\n",
    "connection_string = 'mysql+pymysql://root:' + pw + '@localhost:3306/'\n",
    "engine = create_engine(connection_string)\n",
    "\n",
    "with engine.connect() as conn:\n",
    "    conn.execute(f\"CREATE DATABASE IF NOT EXISTS a_new_db_262\")"
   ]
  },
  {
   "cell_type": "code",
   "execution_count": null,
   "metadata": {},
   "outputs": [],
   "source": []
  },
  {
   "cell_type": "code",
   "execution_count": 19,
   "metadata": {},
   "outputs": [],
   "source": [
    "#retrieves the rental data for the specified month and year\n",
    "\n",
    "\n",
    "def rentals_month(engine, month, year):\n",
    "    \"\"\"retrieves the rental data for the specified month and year using an SQL query\"\"\"\n",
    "    query_month = month\n",
    "    query_year = year\n",
    "    year=0\n",
    "    date_df = pd.read_sql_query(sql,engine)\n",
    "    conn.execute(f\"\"\"SELECT * from rental,  from rental where month = month\n",
    "                 \n",
    "                 \"\"\")\n",
    "    return df\n",
    "    "
   ]
  },
  {
   "cell_type": "code",
   "execution_count": 35,
   "metadata": {},
   "outputs": [
    {
     "name": "stderr",
     "output_type": "stream",
     "text": [
      "/opt/anaconda3/lib/python3.7/site-packages/pandas/io/sql.py:320: SAWarning: Did not recognize type 'geometry' of column 'location'\n",
      "  meta.reflect(only=[table_name], views=True)\n"
     ]
    },
    {
     "data": {
      "text/html": [
       "<div>\n",
       "<style scoped>\n",
       "    .dataframe tbody tr th:only-of-type {\n",
       "        vertical-align: middle;\n",
       "    }\n",
       "\n",
       "    .dataframe tbody tr th {\n",
       "        vertical-align: top;\n",
       "    }\n",
       "\n",
       "    .dataframe thead th {\n",
       "        text-align: right;\n",
       "    }\n",
       "</style>\n",
       "<table border=\"1\" class=\"dataframe\">\n",
       "  <thead>\n",
       "    <tr style=\"text-align: right;\">\n",
       "      <th></th>\n",
       "      <th>rental_id</th>\n",
       "      <th>rental_date</th>\n",
       "      <th>inventory_id</th>\n",
       "      <th>customer_id</th>\n",
       "      <th>return_date</th>\n",
       "      <th>staff_id</th>\n",
       "      <th>last_update</th>\n",
       "    </tr>\n",
       "  </thead>\n",
       "  <tbody>\n",
       "    <tr>\n",
       "      <th>0</th>\n",
       "      <td>1</td>\n",
       "      <td>2005-05-24 22:53:30</td>\n",
       "      <td>367</td>\n",
       "      <td>130</td>\n",
       "      <td>2005-05-26 22:04:30</td>\n",
       "      <td>1</td>\n",
       "      <td>2006-02-15 21:30:53</td>\n",
       "    </tr>\n",
       "    <tr>\n",
       "      <th>1</th>\n",
       "      <td>2</td>\n",
       "      <td>2005-05-24 22:54:33</td>\n",
       "      <td>1525</td>\n",
       "      <td>459</td>\n",
       "      <td>2005-05-28 19:40:33</td>\n",
       "      <td>1</td>\n",
       "      <td>2006-02-15 21:30:53</td>\n",
       "    </tr>\n",
       "    <tr>\n",
       "      <th>2</th>\n",
       "      <td>3</td>\n",
       "      <td>2005-05-24 23:03:39</td>\n",
       "      <td>1711</td>\n",
       "      <td>408</td>\n",
       "      <td>2005-06-01 22:12:39</td>\n",
       "      <td>1</td>\n",
       "      <td>2006-02-15 21:30:53</td>\n",
       "    </tr>\n",
       "    <tr>\n",
       "      <th>3</th>\n",
       "      <td>4</td>\n",
       "      <td>2005-05-24 23:04:41</td>\n",
       "      <td>2452</td>\n",
       "      <td>333</td>\n",
       "      <td>2005-06-03 01:43:41</td>\n",
       "      <td>2</td>\n",
       "      <td>2006-02-15 21:30:53</td>\n",
       "    </tr>\n",
       "    <tr>\n",
       "      <th>4</th>\n",
       "      <td>5</td>\n",
       "      <td>2005-05-24 23:05:21</td>\n",
       "      <td>2079</td>\n",
       "      <td>222</td>\n",
       "      <td>2005-06-02 04:33:21</td>\n",
       "      <td>1</td>\n",
       "      <td>2006-02-15 21:30:53</td>\n",
       "    </tr>\n",
       "    <tr>\n",
       "      <th>...</th>\n",
       "      <td>...</td>\n",
       "      <td>...</td>\n",
       "      <td>...</td>\n",
       "      <td>...</td>\n",
       "      <td>...</td>\n",
       "      <td>...</td>\n",
       "      <td>...</td>\n",
       "    </tr>\n",
       "    <tr>\n",
       "      <th>16039</th>\n",
       "      <td>16045</td>\n",
       "      <td>2005-08-23 22:25:26</td>\n",
       "      <td>772</td>\n",
       "      <td>14</td>\n",
       "      <td>2005-08-25 23:54:26</td>\n",
       "      <td>1</td>\n",
       "      <td>2006-02-15 21:30:53</td>\n",
       "    </tr>\n",
       "    <tr>\n",
       "      <th>16040</th>\n",
       "      <td>16046</td>\n",
       "      <td>2005-08-23 22:26:47</td>\n",
       "      <td>4364</td>\n",
       "      <td>74</td>\n",
       "      <td>2005-08-27 18:02:47</td>\n",
       "      <td>2</td>\n",
       "      <td>2006-02-15 21:30:53</td>\n",
       "    </tr>\n",
       "    <tr>\n",
       "      <th>16041</th>\n",
       "      <td>16047</td>\n",
       "      <td>2005-08-23 22:42:48</td>\n",
       "      <td>2088</td>\n",
       "      <td>114</td>\n",
       "      <td>2005-08-25 02:48:48</td>\n",
       "      <td>2</td>\n",
       "      <td>2006-02-15 21:30:53</td>\n",
       "    </tr>\n",
       "    <tr>\n",
       "      <th>16042</th>\n",
       "      <td>16048</td>\n",
       "      <td>2005-08-23 22:43:07</td>\n",
       "      <td>2019</td>\n",
       "      <td>103</td>\n",
       "      <td>2005-08-31 21:33:07</td>\n",
       "      <td>1</td>\n",
       "      <td>2006-02-15 21:30:53</td>\n",
       "    </tr>\n",
       "    <tr>\n",
       "      <th>16043</th>\n",
       "      <td>16049</td>\n",
       "      <td>2005-08-23 22:50:12</td>\n",
       "      <td>2666</td>\n",
       "      <td>393</td>\n",
       "      <td>2005-08-30 01:01:12</td>\n",
       "      <td>2</td>\n",
       "      <td>2006-02-15 21:30:53</td>\n",
       "    </tr>\n",
       "  </tbody>\n",
       "</table>\n",
       "<p>16044 rows × 7 columns</p>\n",
       "</div>"
      ],
      "text/plain": [
       "       rental_id         rental_date  inventory_id  customer_id  \\\n",
       "0              1 2005-05-24 22:53:30           367          130   \n",
       "1              2 2005-05-24 22:54:33          1525          459   \n",
       "2              3 2005-05-24 23:03:39          1711          408   \n",
       "3              4 2005-05-24 23:04:41          2452          333   \n",
       "4              5 2005-05-24 23:05:21          2079          222   \n",
       "...          ...                 ...           ...          ...   \n",
       "16039      16045 2005-08-23 22:25:26           772           14   \n",
       "16040      16046 2005-08-23 22:26:47          4364           74   \n",
       "16041      16047 2005-08-23 22:42:48          2088          114   \n",
       "16042      16048 2005-08-23 22:43:07          2019          103   \n",
       "16043      16049 2005-08-23 22:50:12          2666          393   \n",
       "\n",
       "              return_date  staff_id         last_update  \n",
       "0     2005-05-26 22:04:30         1 2006-02-15 21:30:53  \n",
       "1     2005-05-28 19:40:33         1 2006-02-15 21:30:53  \n",
       "2     2005-06-01 22:12:39         1 2006-02-15 21:30:53  \n",
       "3     2005-06-03 01:43:41         2 2006-02-15 21:30:53  \n",
       "4     2005-06-02 04:33:21         1 2006-02-15 21:30:53  \n",
       "...                   ...       ...                 ...  \n",
       "16039 2005-08-25 23:54:26         1 2006-02-15 21:30:53  \n",
       "16040 2005-08-27 18:02:47         2 2006-02-15 21:30:53  \n",
       "16041 2005-08-25 02:48:48         2 2006-02-15 21:30:53  \n",
       "16042 2005-08-31 21:33:07         1 2006-02-15 21:30:53  \n",
       "16043 2005-08-30 01:01:12         2 2006-02-15 21:30:53  \n",
       "\n",
       "[16044 rows x 7 columns]"
      ]
     },
     "metadata": {},
     "output_type": "display_data"
    }
   ],
   "source": [
    "df = rentals_month(engine, 5, 2005)"
   ]
  },
  {
   "cell_type": "code",
   "execution_count": 36,
   "metadata": {},
   "outputs": [
    {
     "ename": "TypeError",
     "evalue": "'NoneType' object is not subscriptable",
     "output_type": "error",
     "traceback": [
      "\u001b[0;31m---------------------------------------------------------------------------\u001b[0m",
      "\u001b[0;31mTypeError\u001b[0m                                 Traceback (most recent call last)",
      "\u001b[0;32m<ipython-input-36-eab95899284f>\u001b[0m in \u001b[0;36m<module>\u001b[0;34m\u001b[0m\n\u001b[0;32m----> 1\u001b[0;31m \u001b[0mdf\u001b[0m\u001b[0;34m[\u001b[0m\u001b[0;34m\"rental_date\"\u001b[0m\u001b[0;34m]\u001b[0m\u001b[0;34m\u001b[0m\u001b[0;34m\u001b[0m\u001b[0m\n\u001b[0m",
      "\u001b[0;31mTypeError\u001b[0m: 'NoneType' object is not subscriptable"
     ]
    }
   ],
   "source": [
    "df[\"rental_date\"]"
   ]
  },
  {
   "cell_type": "code",
   "execution_count": null,
   "metadata": {},
   "outputs": [],
   "source": [
    "def rental_count_month(engine, month, year):"
   ]
  }
 ],
 "metadata": {
  "kernelspec": {
   "display_name": "Python 3",
   "language": "python",
   "name": "python3"
  },
  "language_info": {
   "codemirror_mode": {
    "name": "ipython",
    "version": 3
   },
   "file_extension": ".py",
   "mimetype": "text/x-python",
   "name": "python",
   "nbconvert_exporter": "python",
   "pygments_lexer": "ipython3",
   "version": "3.7.6"
  }
 },
 "nbformat": 4,
 "nbformat_minor": 5
}
